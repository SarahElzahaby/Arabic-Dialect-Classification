{
  "nbformat": 4,
  "nbformat_minor": 0,
  "metadata": {
    "colab": {
      "provenance": []
    },
    "kernelspec": {
      "name": "python3",
      "display_name": "Python 3"
    },
    "language_info": {
      "name": "python"
    }
  },
  "cells": [
    {
      "cell_type": "code",
      "source": [
        "import sqlite3\n",
        "import pandas as pd\n",
        "import csv\n"
      ],
      "metadata": {
        "id": "g2ig0L21l6v9"
      },
      "execution_count": 18,
      "outputs": []
    },
    {
      "cell_type": "code",
      "source": [
        "database_path = '/content/dialects_database.db'\n",
        "table_names = ['id_text', 'id_dialect']  # Replace with your actual table names\n",
        "csv_file_paths = ['table1.csv', 'table2.csv']  # Replace with your desired output file names\n"
      ],
      "metadata": {
        "id": "MQ54qpN5NUEF"
      },
      "execution_count": 19,
      "outputs": []
    },
    {
      "cell_type": "code",
      "source": [
        "conn = sqlite3.connect(database_path)\n",
        "cursor = conn.cursor()"
      ],
      "metadata": {
        "id": "xx9tFbSUP-Yi"
      },
      "execution_count": 20,
      "outputs": []
    },
    {
      "cell_type": "code",
      "source": [
        "for table_name, csv_file_path in zip(table_names, csv_file_paths):\n",
        "    try:\n",
        "        # Query to fetch all data from the current table\n",
        "        query = f'SELECT * FROM {table_name}'\n",
        "        cursor.execute(query)\n",
        "\n",
        "        # Fetch all rows from the query result\n",
        "        rows = cursor.fetchall()\n",
        "\n",
        "        # Get column names from the cursor description\n",
        "        column_names = [description[0] for description in cursor.description]\n",
        "\n",
        "        # Open a CSV file for writing\n",
        "        with open(csv_file_path, mode='w', newline='') as csv_file:\n",
        "            writer = csv.writer(csv_file)\n",
        "\n",
        "            # Write the column names as the first row\n",
        "            writer.writerow(column_names)\n",
        "\n",
        "            # Write the rows to the CSV file\n",
        "            writer.writerows(rows)\n",
        "\n",
        "    except sqlite3.OperationalError as e:\n",
        "        print(f\"Error fetching data from table '{table_name}': {e}\")\n",
        "conn.close()"
      ],
      "metadata": {
        "id": "K1q__o-QQF-H"
      },
      "execution_count": 21,
      "outputs": []
    },
    {
      "cell_type": "code",
      "source": [],
      "metadata": {
        "id": "VsXA58drMraa"
      },
      "execution_count": null,
      "outputs": []
    }
  ]
}