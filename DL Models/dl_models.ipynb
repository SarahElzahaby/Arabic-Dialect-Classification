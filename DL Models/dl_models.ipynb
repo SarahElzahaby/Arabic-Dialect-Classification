{
  "metadata": {
    "kernelspec": {
      "language": "python",
      "display_name": "Python 3",
      "name": "python3"
    },
    "language_info": {
      "name": "python",
      "version": "3.10.13",
      "mimetype": "text/x-python",
      "codemirror_mode": {
        "name": "ipython",
        "version": 3
      },
      "pygments_lexer": "ipython3",
      "nbconvert_exporter": "python",
      "file_extension": ".py"
    },
    "kaggle": {
      "accelerator": "nvidiaTeslaT4",
      "dataSources": [
        {
          "sourceId": 8539177,
          "sourceType": "datasetVersion",
          "datasetId": 5101058
        }
      ],
      "dockerImageVersionId": 30699,
      "isInternetEnabled": true,
      "language": "python",
      "sourceType": "notebook",
      "isGpuEnabled": true
    },
    "colab": {
      "provenance": []
    }
  },
  "nbformat_minor": 0,
  "nbformat": 4,
  "cells": [
    {
      "cell_type": "markdown",
      "source": [
        "# Import Libraries"
      ],
      "metadata": {
        "id": "z_6mE6v6v2aH"
      }
    },
    {
      "cell_type": "code",
      "source": [
        "import pandas as pd\n",
        "import numpy as np\n",
        "from sklearn.utils import resample\n",
        "from sklearn.model_selection import train_test_split\n",
        "from tensorflow.keras.preprocessing.text import Tokenizer\n",
        "from tensorflow.keras.preprocessing.sequence import pad_sequences\n",
        "import json\n",
        "from tensorflow.keras.preprocessing.text import tokenizer_from_json\n",
        "from sklearn.preprocessing import LabelEncoder\n",
        "from tensorflow.keras.utils import to_categorical\n",
        "from tensorflow.keras.models import Sequential\n",
        "import tensorflow as tf\n",
        "from tensorflow.keras import Model, Input\n",
        "from tensorflow.keras.layers import LSTM, Embedding, Dense, SimpleRNN, GRU\n",
        "from tensorflow.keras.layers import TimeDistributed, SpatialDropout1D, Bidirectional\n",
        "from keras.models import load_model"
      ],
      "metadata": {
        "execution": {
          "iopub.status.busy": "2024-05-30T10:18:27.934037Z",
          "iopub.execute_input": "2024-05-30T10:18:27.934312Z",
          "iopub.status.idle": "2024-05-30T10:18:43.027052Z",
          "shell.execute_reply.started": "2024-05-30T10:18:27.934287Z",
          "shell.execute_reply": "2024-05-30T10:18:43.026025Z"
        },
        "trusted": true,
        "id": "gBFiXxSZvqXr"
      },
      "execution_count": 21,
      "outputs": []
    },
    {
      "cell_type": "markdown",
      "source": [
        "# Load Datasets"
      ],
      "metadata": {
        "id": "PE-0xt3Qv6FR"
      }
    },
    {
      "cell_type": "code",
      "source": [
        "from google.colab import drive\n",
        "drive.mount('/content/drive')"
      ],
      "metadata": {
        "colab": {
          "base_uri": "https://localhost:8080/"
        },
        "id": "xuIGXW6Wvt4A",
        "outputId": "af321ac0-6cec-4512-c2c6-5d4ec2beff5c"
      },
      "execution_count": 1,
      "outputs": [
        {
          "output_type": "stream",
          "name": "stdout",
          "text": [
            "Mounted at /content/drive\n"
          ]
        }
      ]
    },
    {
      "cell_type": "code",
      "source": [
        "train = pd.read_csv('/content/drive/MyDrive/nlp_project/data_cleaning/preprocessed_train.csv')\n",
        "train.drop(columns='Unnamed: 0', inplace=True)\n",
        "train"
      ],
      "metadata": {
        "execution": {
          "iopub.status.busy": "2024-05-30T10:18:59.527699Z",
          "iopub.execute_input": "2024-05-30T10:18:59.528303Z",
          "iopub.status.idle": "2024-05-30T10:19:00.094144Z",
          "shell.execute_reply.started": "2024-05-30T10:18:59.528273Z",
          "shell.execute_reply": "2024-05-30T10:19:00.093144Z"
        },
        "trusted": true,
        "colab": {
          "base_uri": "https://localhost:8080/",
          "height": 423
        },
        "id": "ATLkVkbLvqXw",
        "outputId": "77935985-4b0a-44b1-faef-bccd49285dc2"
      },
      "execution_count": 4,
      "outputs": [
        {
          "output_type": "execute_result",
          "data": {
            "text/plain": [
              "                                                     text label\n",
              "0                                     فين الذكور يا رجالة    LB\n",
              "1       هه انت تشجع فنادي مش حاضرهم شايلين شامبيون اسي...    LY\n",
              "2                       فكرة حلوة و ممكن رسالة ع الموبايل    EG\n",
              "3       ياا يالميدان كنت فين من زماان يارب كملها على خ...    EG\n",
              "4       هما اعلامي التوك شو راحوا فين كله اعادة او مش ...    EG\n",
              "...                                                   ...   ...\n",
              "118175  والله تذكرت يوم مات الحسن التاني كان من اول ال...    MA\n",
              "118176  ممكن بس حد يدلني هو محماا علي ده ازاي حصل علي ...    EG\n",
              "118177                        ساكت ليه يا مجدي قوول وفضفض    EG\n",
              "118178  سامعة الصراخ اللي طالع من جوه متخافيش دول صحاب...    EG\n",
              "118179         هما فين الكبار دول يورونى نفسهم العب ياسمك    EG\n",
              "\n",
              "[118180 rows x 2 columns]"
            ],
            "text/html": [
              "\n",
              "  <div id=\"df-d8006c56-9103-4698-82a9-977494d90ae4\" class=\"colab-df-container\">\n",
              "    <div>\n",
              "<style scoped>\n",
              "    .dataframe tbody tr th:only-of-type {\n",
              "        vertical-align: middle;\n",
              "    }\n",
              "\n",
              "    .dataframe tbody tr th {\n",
              "        vertical-align: top;\n",
              "    }\n",
              "\n",
              "    .dataframe thead th {\n",
              "        text-align: right;\n",
              "    }\n",
              "</style>\n",
              "<table border=\"1\" class=\"dataframe\">\n",
              "  <thead>\n",
              "    <tr style=\"text-align: right;\">\n",
              "      <th></th>\n",
              "      <th>text</th>\n",
              "      <th>label</th>\n",
              "    </tr>\n",
              "  </thead>\n",
              "  <tbody>\n",
              "    <tr>\n",
              "      <th>0</th>\n",
              "      <td>فين الذكور يا رجالة</td>\n",
              "      <td>LB</td>\n",
              "    </tr>\n",
              "    <tr>\n",
              "      <th>1</th>\n",
              "      <td>هه انت تشجع فنادي مش حاضرهم شايلين شامبيون اسي...</td>\n",
              "      <td>LY</td>\n",
              "    </tr>\n",
              "    <tr>\n",
              "      <th>2</th>\n",
              "      <td>فكرة حلوة و ممكن رسالة ع الموبايل</td>\n",
              "      <td>EG</td>\n",
              "    </tr>\n",
              "    <tr>\n",
              "      <th>3</th>\n",
              "      <td>ياا يالميدان كنت فين من زماان يارب كملها على خ...</td>\n",
              "      <td>EG</td>\n",
              "    </tr>\n",
              "    <tr>\n",
              "      <th>4</th>\n",
              "      <td>هما اعلامي التوك شو راحوا فين كله اعادة او مش ...</td>\n",
              "      <td>EG</td>\n",
              "    </tr>\n",
              "    <tr>\n",
              "      <th>...</th>\n",
              "      <td>...</td>\n",
              "      <td>...</td>\n",
              "    </tr>\n",
              "    <tr>\n",
              "      <th>118175</th>\n",
              "      <td>والله تذكرت يوم مات الحسن التاني كان من اول ال...</td>\n",
              "      <td>MA</td>\n",
              "    </tr>\n",
              "    <tr>\n",
              "      <th>118176</th>\n",
              "      <td>ممكن بس حد يدلني هو محماا علي ده ازاي حصل علي ...</td>\n",
              "      <td>EG</td>\n",
              "    </tr>\n",
              "    <tr>\n",
              "      <th>118177</th>\n",
              "      <td>ساكت ليه يا مجدي قوول وفضفض</td>\n",
              "      <td>EG</td>\n",
              "    </tr>\n",
              "    <tr>\n",
              "      <th>118178</th>\n",
              "      <td>سامعة الصراخ اللي طالع من جوه متخافيش دول صحاب...</td>\n",
              "      <td>EG</td>\n",
              "    </tr>\n",
              "    <tr>\n",
              "      <th>118179</th>\n",
              "      <td>هما فين الكبار دول يورونى نفسهم العب ياسمك</td>\n",
              "      <td>EG</td>\n",
              "    </tr>\n",
              "  </tbody>\n",
              "</table>\n",
              "<p>118180 rows × 2 columns</p>\n",
              "</div>\n",
              "    <div class=\"colab-df-buttons\">\n",
              "\n",
              "  <div class=\"colab-df-container\">\n",
              "    <button class=\"colab-df-convert\" onclick=\"convertToInteractive('df-d8006c56-9103-4698-82a9-977494d90ae4')\"\n",
              "            title=\"Convert this dataframe to an interactive table.\"\n",
              "            style=\"display:none;\">\n",
              "\n",
              "  <svg xmlns=\"http://www.w3.org/2000/svg\" height=\"24px\" viewBox=\"0 -960 960 960\">\n",
              "    <path d=\"M120-120v-720h720v720H120Zm60-500h600v-160H180v160Zm220 220h160v-160H400v160Zm0 220h160v-160H400v160ZM180-400h160v-160H180v160Zm440 0h160v-160H620v160ZM180-180h160v-160H180v160Zm440 0h160v-160H620v160Z\"/>\n",
              "  </svg>\n",
              "    </button>\n",
              "\n",
              "  <style>\n",
              "    .colab-df-container {\n",
              "      display:flex;\n",
              "      gap: 12px;\n",
              "    }\n",
              "\n",
              "    .colab-df-convert {\n",
              "      background-color: #E8F0FE;\n",
              "      border: none;\n",
              "      border-radius: 50%;\n",
              "      cursor: pointer;\n",
              "      display: none;\n",
              "      fill: #1967D2;\n",
              "      height: 32px;\n",
              "      padding: 0 0 0 0;\n",
              "      width: 32px;\n",
              "    }\n",
              "\n",
              "    .colab-df-convert:hover {\n",
              "      background-color: #E2EBFA;\n",
              "      box-shadow: 0px 1px 2px rgba(60, 64, 67, 0.3), 0px 1px 3px 1px rgba(60, 64, 67, 0.15);\n",
              "      fill: #174EA6;\n",
              "    }\n",
              "\n",
              "    .colab-df-buttons div {\n",
              "      margin-bottom: 4px;\n",
              "    }\n",
              "\n",
              "    [theme=dark] .colab-df-convert {\n",
              "      background-color: #3B4455;\n",
              "      fill: #D2E3FC;\n",
              "    }\n",
              "\n",
              "    [theme=dark] .colab-df-convert:hover {\n",
              "      background-color: #434B5C;\n",
              "      box-shadow: 0px 1px 3px 1px rgba(0, 0, 0, 0.15);\n",
              "      filter: drop-shadow(0px 1px 2px rgba(0, 0, 0, 0.3));\n",
              "      fill: #FFFFFF;\n",
              "    }\n",
              "  </style>\n",
              "\n",
              "    <script>\n",
              "      const buttonEl =\n",
              "        document.querySelector('#df-d8006c56-9103-4698-82a9-977494d90ae4 button.colab-df-convert');\n",
              "      buttonEl.style.display =\n",
              "        google.colab.kernel.accessAllowed ? 'block' : 'none';\n",
              "\n",
              "      async function convertToInteractive(key) {\n",
              "        const element = document.querySelector('#df-d8006c56-9103-4698-82a9-977494d90ae4');\n",
              "        const dataTable =\n",
              "          await google.colab.kernel.invokeFunction('convertToInteractive',\n",
              "                                                    [key], {});\n",
              "        if (!dataTable) return;\n",
              "\n",
              "        const docLinkHtml = 'Like what you see? Visit the ' +\n",
              "          '<a target=\"_blank\" href=https://colab.research.google.com/notebooks/data_table.ipynb>data table notebook</a>'\n",
              "          + ' to learn more about interactive tables.';\n",
              "        element.innerHTML = '';\n",
              "        dataTable['output_type'] = 'display_data';\n",
              "        await google.colab.output.renderOutput(dataTable, element);\n",
              "        const docLink = document.createElement('div');\n",
              "        docLink.innerHTML = docLinkHtml;\n",
              "        element.appendChild(docLink);\n",
              "      }\n",
              "    </script>\n",
              "  </div>\n",
              "\n",
              "\n",
              "<div id=\"df-3ee1a587-10d5-4144-adc3-0fdfca297e1a\">\n",
              "  <button class=\"colab-df-quickchart\" onclick=\"quickchart('df-3ee1a587-10d5-4144-adc3-0fdfca297e1a')\"\n",
              "            title=\"Suggest charts\"\n",
              "            style=\"display:none;\">\n",
              "\n",
              "<svg xmlns=\"http://www.w3.org/2000/svg\" height=\"24px\"viewBox=\"0 0 24 24\"\n",
              "     width=\"24px\">\n",
              "    <g>\n",
              "        <path d=\"M19 3H5c-1.1 0-2 .9-2 2v14c0 1.1.9 2 2 2h14c1.1 0 2-.9 2-2V5c0-1.1-.9-2-2-2zM9 17H7v-7h2v7zm4 0h-2V7h2v10zm4 0h-2v-4h2v4z\"/>\n",
              "    </g>\n",
              "</svg>\n",
              "  </button>\n",
              "\n",
              "<style>\n",
              "  .colab-df-quickchart {\n",
              "      --bg-color: #E8F0FE;\n",
              "      --fill-color: #1967D2;\n",
              "      --hover-bg-color: #E2EBFA;\n",
              "      --hover-fill-color: #174EA6;\n",
              "      --disabled-fill-color: #AAA;\n",
              "      --disabled-bg-color: #DDD;\n",
              "  }\n",
              "\n",
              "  [theme=dark] .colab-df-quickchart {\n",
              "      --bg-color: #3B4455;\n",
              "      --fill-color: #D2E3FC;\n",
              "      --hover-bg-color: #434B5C;\n",
              "      --hover-fill-color: #FFFFFF;\n",
              "      --disabled-bg-color: #3B4455;\n",
              "      --disabled-fill-color: #666;\n",
              "  }\n",
              "\n",
              "  .colab-df-quickchart {\n",
              "    background-color: var(--bg-color);\n",
              "    border: none;\n",
              "    border-radius: 50%;\n",
              "    cursor: pointer;\n",
              "    display: none;\n",
              "    fill: var(--fill-color);\n",
              "    height: 32px;\n",
              "    padding: 0;\n",
              "    width: 32px;\n",
              "  }\n",
              "\n",
              "  .colab-df-quickchart:hover {\n",
              "    background-color: var(--hover-bg-color);\n",
              "    box-shadow: 0 1px 2px rgba(60, 64, 67, 0.3), 0 1px 3px 1px rgba(60, 64, 67, 0.15);\n",
              "    fill: var(--button-hover-fill-color);\n",
              "  }\n",
              "\n",
              "  .colab-df-quickchart-complete:disabled,\n",
              "  .colab-df-quickchart-complete:disabled:hover {\n",
              "    background-color: var(--disabled-bg-color);\n",
              "    fill: var(--disabled-fill-color);\n",
              "    box-shadow: none;\n",
              "  }\n",
              "\n",
              "  .colab-df-spinner {\n",
              "    border: 2px solid var(--fill-color);\n",
              "    border-color: transparent;\n",
              "    border-bottom-color: var(--fill-color);\n",
              "    animation:\n",
              "      spin 1s steps(1) infinite;\n",
              "  }\n",
              "\n",
              "  @keyframes spin {\n",
              "    0% {\n",
              "      border-color: transparent;\n",
              "      border-bottom-color: var(--fill-color);\n",
              "      border-left-color: var(--fill-color);\n",
              "    }\n",
              "    20% {\n",
              "      border-color: transparent;\n",
              "      border-left-color: var(--fill-color);\n",
              "      border-top-color: var(--fill-color);\n",
              "    }\n",
              "    30% {\n",
              "      border-color: transparent;\n",
              "      border-left-color: var(--fill-color);\n",
              "      border-top-color: var(--fill-color);\n",
              "      border-right-color: var(--fill-color);\n",
              "    }\n",
              "    40% {\n",
              "      border-color: transparent;\n",
              "      border-right-color: var(--fill-color);\n",
              "      border-top-color: var(--fill-color);\n",
              "    }\n",
              "    60% {\n",
              "      border-color: transparent;\n",
              "      border-right-color: var(--fill-color);\n",
              "    }\n",
              "    80% {\n",
              "      border-color: transparent;\n",
              "      border-right-color: var(--fill-color);\n",
              "      border-bottom-color: var(--fill-color);\n",
              "    }\n",
              "    90% {\n",
              "      border-color: transparent;\n",
              "      border-bottom-color: var(--fill-color);\n",
              "    }\n",
              "  }\n",
              "</style>\n",
              "\n",
              "  <script>\n",
              "    async function quickchart(key) {\n",
              "      const quickchartButtonEl =\n",
              "        document.querySelector('#' + key + ' button');\n",
              "      quickchartButtonEl.disabled = true;  // To prevent multiple clicks.\n",
              "      quickchartButtonEl.classList.add('colab-df-spinner');\n",
              "      try {\n",
              "        const charts = await google.colab.kernel.invokeFunction(\n",
              "            'suggestCharts', [key], {});\n",
              "      } catch (error) {\n",
              "        console.error('Error during call to suggestCharts:', error);\n",
              "      }\n",
              "      quickchartButtonEl.classList.remove('colab-df-spinner');\n",
              "      quickchartButtonEl.classList.add('colab-df-quickchart-complete');\n",
              "    }\n",
              "    (() => {\n",
              "      let quickchartButtonEl =\n",
              "        document.querySelector('#df-3ee1a587-10d5-4144-adc3-0fdfca297e1a button');\n",
              "      quickchartButtonEl.style.display =\n",
              "        google.colab.kernel.accessAllowed ? 'block' : 'none';\n",
              "    })();\n",
              "  </script>\n",
              "</div>\n",
              "\n",
              "  <div id=\"id_b1be662a-efe2-408c-896a-217c92adbc27\">\n",
              "    <style>\n",
              "      .colab-df-generate {\n",
              "        background-color: #E8F0FE;\n",
              "        border: none;\n",
              "        border-radius: 50%;\n",
              "        cursor: pointer;\n",
              "        display: none;\n",
              "        fill: #1967D2;\n",
              "        height: 32px;\n",
              "        padding: 0 0 0 0;\n",
              "        width: 32px;\n",
              "      }\n",
              "\n",
              "      .colab-df-generate:hover {\n",
              "        background-color: #E2EBFA;\n",
              "        box-shadow: 0px 1px 2px rgba(60, 64, 67, 0.3), 0px 1px 3px 1px rgba(60, 64, 67, 0.15);\n",
              "        fill: #174EA6;\n",
              "      }\n",
              "\n",
              "      [theme=dark] .colab-df-generate {\n",
              "        background-color: #3B4455;\n",
              "        fill: #D2E3FC;\n",
              "      }\n",
              "\n",
              "      [theme=dark] .colab-df-generate:hover {\n",
              "        background-color: #434B5C;\n",
              "        box-shadow: 0px 1px 3px 1px rgba(0, 0, 0, 0.15);\n",
              "        filter: drop-shadow(0px 1px 2px rgba(0, 0, 0, 0.3));\n",
              "        fill: #FFFFFF;\n",
              "      }\n",
              "    </style>\n",
              "    <button class=\"colab-df-generate\" onclick=\"generateWithVariable('train')\"\n",
              "            title=\"Generate code using this dataframe.\"\n",
              "            style=\"display:none;\">\n",
              "\n",
              "  <svg xmlns=\"http://www.w3.org/2000/svg\" height=\"24px\"viewBox=\"0 0 24 24\"\n",
              "       width=\"24px\">\n",
              "    <path d=\"M7,19H8.4L18.45,9,17,7.55,7,17.6ZM5,21V16.75L18.45,3.32a2,2,0,0,1,2.83,0l1.4,1.43a1.91,1.91,0,0,1,.58,1.4,1.91,1.91,0,0,1-.58,1.4L9.25,21ZM18.45,9,17,7.55Zm-12,3A5.31,5.31,0,0,0,4.9,8.1,5.31,5.31,0,0,0,1,6.5,5.31,5.31,0,0,0,4.9,4.9,5.31,5.31,0,0,0,6.5,1,5.31,5.31,0,0,0,8.1,4.9,5.31,5.31,0,0,0,12,6.5,5.46,5.46,0,0,0,6.5,12Z\"/>\n",
              "  </svg>\n",
              "    </button>\n",
              "    <script>\n",
              "      (() => {\n",
              "      const buttonEl =\n",
              "        document.querySelector('#id_b1be662a-efe2-408c-896a-217c92adbc27 button.colab-df-generate');\n",
              "      buttonEl.style.display =\n",
              "        google.colab.kernel.accessAllowed ? 'block' : 'none';\n",
              "\n",
              "      buttonEl.onclick = () => {\n",
              "        google.colab.notebook.generateWithVariable('train');\n",
              "      }\n",
              "      })();\n",
              "    </script>\n",
              "  </div>\n",
              "\n",
              "    </div>\n",
              "  </div>\n"
            ],
            "application/vnd.google.colaboratory.intrinsic+json": {
              "type": "dataframe",
              "variable_name": "train"
            }
          },
          "metadata": {},
          "execution_count": 4
        }
      ]
    },
    {
      "cell_type": "code",
      "source": [
        "test = pd.read_csv('/content/drive/MyDrive/nlp_project/data_cleaning/preprocessed_test.csv')\n",
        "test.drop(columns='Unnamed: 0', inplace=True)\n",
        "test"
      ],
      "metadata": {
        "execution": {
          "iopub.status.busy": "2024-05-30T10:19:00.906671Z",
          "iopub.execute_input": "2024-05-30T10:19:00.907621Z",
          "iopub.status.idle": "2024-05-30T10:19:01.054634Z",
          "shell.execute_reply.started": "2024-05-30T10:19:00.907589Z",
          "shell.execute_reply": "2024-05-30T10:19:01.053674Z"
        },
        "trusted": true,
        "colab": {
          "base_uri": "https://localhost:8080/",
          "height": 423
        },
        "id": "YOEfmUMrvqXx",
        "outputId": "19184d15-c075-4d11-e78f-4307d28e0547"
      },
      "execution_count": 5,
      "outputs": [
        {
          "output_type": "execute_result",
          "data": {
            "text/plain": [
              "                                                    text label\n",
              "0                 احنا بيقنا الصبح استاذ مجدي يومك بيضحك    EG\n",
              "1                                     يا مشحبطيني يا اني    LB\n",
              "2      زي النهارده السادات كان يشعر بالحرب مع مبارك و...    EG\n",
              "3                               عطاهم عصيير في كاس كبيير    MA\n",
              "4      ولا ما سافل وحقير الا انتم عايزين الراجل يتسجن...    EG\n",
              "...                                                  ...   ...\n",
              "29540  بعلمك فيه أزمة بعد كام ساعة بيتفقوا شوو هالمسخ...    LB\n",
              "29541  حاجات ممكن تغيب عنك بسيطة وسهلة معناها لكن باز...    LY\n",
              "29542                    وبعدين ليا هلبة وقت ممشيتش لهون    LY\n",
              "29543  فنان هايل وكوميدي من الدرجة الاولي وطبيعي جدا ...    EG\n",
              "29544   بجديات حمار ويندري على روحه حمار وفرحان انه حمار    LY\n",
              "\n",
              "[29545 rows x 2 columns]"
            ],
            "text/html": [
              "\n",
              "  <div id=\"df-775f80d8-55bf-422e-b058-3e88fdfe4802\" class=\"colab-df-container\">\n",
              "    <div>\n",
              "<style scoped>\n",
              "    .dataframe tbody tr th:only-of-type {\n",
              "        vertical-align: middle;\n",
              "    }\n",
              "\n",
              "    .dataframe tbody tr th {\n",
              "        vertical-align: top;\n",
              "    }\n",
              "\n",
              "    .dataframe thead th {\n",
              "        text-align: right;\n",
              "    }\n",
              "</style>\n",
              "<table border=\"1\" class=\"dataframe\">\n",
              "  <thead>\n",
              "    <tr style=\"text-align: right;\">\n",
              "      <th></th>\n",
              "      <th>text</th>\n",
              "      <th>label</th>\n",
              "    </tr>\n",
              "  </thead>\n",
              "  <tbody>\n",
              "    <tr>\n",
              "      <th>0</th>\n",
              "      <td>احنا بيقنا الصبح استاذ مجدي يومك بيضحك</td>\n",
              "      <td>EG</td>\n",
              "    </tr>\n",
              "    <tr>\n",
              "      <th>1</th>\n",
              "      <td>يا مشحبطيني يا اني</td>\n",
              "      <td>LB</td>\n",
              "    </tr>\n",
              "    <tr>\n",
              "      <th>2</th>\n",
              "      <td>زي النهارده السادات كان يشعر بالحرب مع مبارك و...</td>\n",
              "      <td>EG</td>\n",
              "    </tr>\n",
              "    <tr>\n",
              "      <th>3</th>\n",
              "      <td>عطاهم عصيير في كاس كبيير</td>\n",
              "      <td>MA</td>\n",
              "    </tr>\n",
              "    <tr>\n",
              "      <th>4</th>\n",
              "      <td>ولا ما سافل وحقير الا انتم عايزين الراجل يتسجن...</td>\n",
              "      <td>EG</td>\n",
              "    </tr>\n",
              "    <tr>\n",
              "      <th>...</th>\n",
              "      <td>...</td>\n",
              "      <td>...</td>\n",
              "    </tr>\n",
              "    <tr>\n",
              "      <th>29540</th>\n",
              "      <td>بعلمك فيه أزمة بعد كام ساعة بيتفقوا شوو هالمسخ...</td>\n",
              "      <td>LB</td>\n",
              "    </tr>\n",
              "    <tr>\n",
              "      <th>29541</th>\n",
              "      <td>حاجات ممكن تغيب عنك بسيطة وسهلة معناها لكن باز...</td>\n",
              "      <td>LY</td>\n",
              "    </tr>\n",
              "    <tr>\n",
              "      <th>29542</th>\n",
              "      <td>وبعدين ليا هلبة وقت ممشيتش لهون</td>\n",
              "      <td>LY</td>\n",
              "    </tr>\n",
              "    <tr>\n",
              "      <th>29543</th>\n",
              "      <td>فنان هايل وكوميدي من الدرجة الاولي وطبيعي جدا ...</td>\n",
              "      <td>EG</td>\n",
              "    </tr>\n",
              "    <tr>\n",
              "      <th>29544</th>\n",
              "      <td>بجديات حمار ويندري على روحه حمار وفرحان انه حمار</td>\n",
              "      <td>LY</td>\n",
              "    </tr>\n",
              "  </tbody>\n",
              "</table>\n",
              "<p>29545 rows × 2 columns</p>\n",
              "</div>\n",
              "    <div class=\"colab-df-buttons\">\n",
              "\n",
              "  <div class=\"colab-df-container\">\n",
              "    <button class=\"colab-df-convert\" onclick=\"convertToInteractive('df-775f80d8-55bf-422e-b058-3e88fdfe4802')\"\n",
              "            title=\"Convert this dataframe to an interactive table.\"\n",
              "            style=\"display:none;\">\n",
              "\n",
              "  <svg xmlns=\"http://www.w3.org/2000/svg\" height=\"24px\" viewBox=\"0 -960 960 960\">\n",
              "    <path d=\"M120-120v-720h720v720H120Zm60-500h600v-160H180v160Zm220 220h160v-160H400v160Zm0 220h160v-160H400v160ZM180-400h160v-160H180v160Zm440 0h160v-160H620v160ZM180-180h160v-160H180v160Zm440 0h160v-160H620v160Z\"/>\n",
              "  </svg>\n",
              "    </button>\n",
              "\n",
              "  <style>\n",
              "    .colab-df-container {\n",
              "      display:flex;\n",
              "      gap: 12px;\n",
              "    }\n",
              "\n",
              "    .colab-df-convert {\n",
              "      background-color: #E8F0FE;\n",
              "      border: none;\n",
              "      border-radius: 50%;\n",
              "      cursor: pointer;\n",
              "      display: none;\n",
              "      fill: #1967D2;\n",
              "      height: 32px;\n",
              "      padding: 0 0 0 0;\n",
              "      width: 32px;\n",
              "    }\n",
              "\n",
              "    .colab-df-convert:hover {\n",
              "      background-color: #E2EBFA;\n",
              "      box-shadow: 0px 1px 2px rgba(60, 64, 67, 0.3), 0px 1px 3px 1px rgba(60, 64, 67, 0.15);\n",
              "      fill: #174EA6;\n",
              "    }\n",
              "\n",
              "    .colab-df-buttons div {\n",
              "      margin-bottom: 4px;\n",
              "    }\n",
              "\n",
              "    [theme=dark] .colab-df-convert {\n",
              "      background-color: #3B4455;\n",
              "      fill: #D2E3FC;\n",
              "    }\n",
              "\n",
              "    [theme=dark] .colab-df-convert:hover {\n",
              "      background-color: #434B5C;\n",
              "      box-shadow: 0px 1px 3px 1px rgba(0, 0, 0, 0.15);\n",
              "      filter: drop-shadow(0px 1px 2px rgba(0, 0, 0, 0.3));\n",
              "      fill: #FFFFFF;\n",
              "    }\n",
              "  </style>\n",
              "\n",
              "    <script>\n",
              "      const buttonEl =\n",
              "        document.querySelector('#df-775f80d8-55bf-422e-b058-3e88fdfe4802 button.colab-df-convert');\n",
              "      buttonEl.style.display =\n",
              "        google.colab.kernel.accessAllowed ? 'block' : 'none';\n",
              "\n",
              "      async function convertToInteractive(key) {\n",
              "        const element = document.querySelector('#df-775f80d8-55bf-422e-b058-3e88fdfe4802');\n",
              "        const dataTable =\n",
              "          await google.colab.kernel.invokeFunction('convertToInteractive',\n",
              "                                                    [key], {});\n",
              "        if (!dataTable) return;\n",
              "\n",
              "        const docLinkHtml = 'Like what you see? Visit the ' +\n",
              "          '<a target=\"_blank\" href=https://colab.research.google.com/notebooks/data_table.ipynb>data table notebook</a>'\n",
              "          + ' to learn more about interactive tables.';\n",
              "        element.innerHTML = '';\n",
              "        dataTable['output_type'] = 'display_data';\n",
              "        await google.colab.output.renderOutput(dataTable, element);\n",
              "        const docLink = document.createElement('div');\n",
              "        docLink.innerHTML = docLinkHtml;\n",
              "        element.appendChild(docLink);\n",
              "      }\n",
              "    </script>\n",
              "  </div>\n",
              "\n",
              "\n",
              "<div id=\"df-6ff90225-4bea-4496-b96c-c671e5a9c9a6\">\n",
              "  <button class=\"colab-df-quickchart\" onclick=\"quickchart('df-6ff90225-4bea-4496-b96c-c671e5a9c9a6')\"\n",
              "            title=\"Suggest charts\"\n",
              "            style=\"display:none;\">\n",
              "\n",
              "<svg xmlns=\"http://www.w3.org/2000/svg\" height=\"24px\"viewBox=\"0 0 24 24\"\n",
              "     width=\"24px\">\n",
              "    <g>\n",
              "        <path d=\"M19 3H5c-1.1 0-2 .9-2 2v14c0 1.1.9 2 2 2h14c1.1 0 2-.9 2-2V5c0-1.1-.9-2-2-2zM9 17H7v-7h2v7zm4 0h-2V7h2v10zm4 0h-2v-4h2v4z\"/>\n",
              "    </g>\n",
              "</svg>\n",
              "  </button>\n",
              "\n",
              "<style>\n",
              "  .colab-df-quickchart {\n",
              "      --bg-color: #E8F0FE;\n",
              "      --fill-color: #1967D2;\n",
              "      --hover-bg-color: #E2EBFA;\n",
              "      --hover-fill-color: #174EA6;\n",
              "      --disabled-fill-color: #AAA;\n",
              "      --disabled-bg-color: #DDD;\n",
              "  }\n",
              "\n",
              "  [theme=dark] .colab-df-quickchart {\n",
              "      --bg-color: #3B4455;\n",
              "      --fill-color: #D2E3FC;\n",
              "      --hover-bg-color: #434B5C;\n",
              "      --hover-fill-color: #FFFFFF;\n",
              "      --disabled-bg-color: #3B4455;\n",
              "      --disabled-fill-color: #666;\n",
              "  }\n",
              "\n",
              "  .colab-df-quickchart {\n",
              "    background-color: var(--bg-color);\n",
              "    border: none;\n",
              "    border-radius: 50%;\n",
              "    cursor: pointer;\n",
              "    display: none;\n",
              "    fill: var(--fill-color);\n",
              "    height: 32px;\n",
              "    padding: 0;\n",
              "    width: 32px;\n",
              "  }\n",
              "\n",
              "  .colab-df-quickchart:hover {\n",
              "    background-color: var(--hover-bg-color);\n",
              "    box-shadow: 0 1px 2px rgba(60, 64, 67, 0.3), 0 1px 3px 1px rgba(60, 64, 67, 0.15);\n",
              "    fill: var(--button-hover-fill-color);\n",
              "  }\n",
              "\n",
              "  .colab-df-quickchart-complete:disabled,\n",
              "  .colab-df-quickchart-complete:disabled:hover {\n",
              "    background-color: var(--disabled-bg-color);\n",
              "    fill: var(--disabled-fill-color);\n",
              "    box-shadow: none;\n",
              "  }\n",
              "\n",
              "  .colab-df-spinner {\n",
              "    border: 2px solid var(--fill-color);\n",
              "    border-color: transparent;\n",
              "    border-bottom-color: var(--fill-color);\n",
              "    animation:\n",
              "      spin 1s steps(1) infinite;\n",
              "  }\n",
              "\n",
              "  @keyframes spin {\n",
              "    0% {\n",
              "      border-color: transparent;\n",
              "      border-bottom-color: var(--fill-color);\n",
              "      border-left-color: var(--fill-color);\n",
              "    }\n",
              "    20% {\n",
              "      border-color: transparent;\n",
              "      border-left-color: var(--fill-color);\n",
              "      border-top-color: var(--fill-color);\n",
              "    }\n",
              "    30% {\n",
              "      border-color: transparent;\n",
              "      border-left-color: var(--fill-color);\n",
              "      border-top-color: var(--fill-color);\n",
              "      border-right-color: var(--fill-color);\n",
              "    }\n",
              "    40% {\n",
              "      border-color: transparent;\n",
              "      border-right-color: var(--fill-color);\n",
              "      border-top-color: var(--fill-color);\n",
              "    }\n",
              "    60% {\n",
              "      border-color: transparent;\n",
              "      border-right-color: var(--fill-color);\n",
              "    }\n",
              "    80% {\n",
              "      border-color: transparent;\n",
              "      border-right-color: var(--fill-color);\n",
              "      border-bottom-color: var(--fill-color);\n",
              "    }\n",
              "    90% {\n",
              "      border-color: transparent;\n",
              "      border-bottom-color: var(--fill-color);\n",
              "    }\n",
              "  }\n",
              "</style>\n",
              "\n",
              "  <script>\n",
              "    async function quickchart(key) {\n",
              "      const quickchartButtonEl =\n",
              "        document.querySelector('#' + key + ' button');\n",
              "      quickchartButtonEl.disabled = true;  // To prevent multiple clicks.\n",
              "      quickchartButtonEl.classList.add('colab-df-spinner');\n",
              "      try {\n",
              "        const charts = await google.colab.kernel.invokeFunction(\n",
              "            'suggestCharts', [key], {});\n",
              "      } catch (error) {\n",
              "        console.error('Error during call to suggestCharts:', error);\n",
              "      }\n",
              "      quickchartButtonEl.classList.remove('colab-df-spinner');\n",
              "      quickchartButtonEl.classList.add('colab-df-quickchart-complete');\n",
              "    }\n",
              "    (() => {\n",
              "      let quickchartButtonEl =\n",
              "        document.querySelector('#df-6ff90225-4bea-4496-b96c-c671e5a9c9a6 button');\n",
              "      quickchartButtonEl.style.display =\n",
              "        google.colab.kernel.accessAllowed ? 'block' : 'none';\n",
              "    })();\n",
              "  </script>\n",
              "</div>\n",
              "\n",
              "  <div id=\"id_9ec70e2b-712e-4d82-9a24-8a008c20292f\">\n",
              "    <style>\n",
              "      .colab-df-generate {\n",
              "        background-color: #E8F0FE;\n",
              "        border: none;\n",
              "        border-radius: 50%;\n",
              "        cursor: pointer;\n",
              "        display: none;\n",
              "        fill: #1967D2;\n",
              "        height: 32px;\n",
              "        padding: 0 0 0 0;\n",
              "        width: 32px;\n",
              "      }\n",
              "\n",
              "      .colab-df-generate:hover {\n",
              "        background-color: #E2EBFA;\n",
              "        box-shadow: 0px 1px 2px rgba(60, 64, 67, 0.3), 0px 1px 3px 1px rgba(60, 64, 67, 0.15);\n",
              "        fill: #174EA6;\n",
              "      }\n",
              "\n",
              "      [theme=dark] .colab-df-generate {\n",
              "        background-color: #3B4455;\n",
              "        fill: #D2E3FC;\n",
              "      }\n",
              "\n",
              "      [theme=dark] .colab-df-generate:hover {\n",
              "        background-color: #434B5C;\n",
              "        box-shadow: 0px 1px 3px 1px rgba(0, 0, 0, 0.15);\n",
              "        filter: drop-shadow(0px 1px 2px rgba(0, 0, 0, 0.3));\n",
              "        fill: #FFFFFF;\n",
              "      }\n",
              "    </style>\n",
              "    <button class=\"colab-df-generate\" onclick=\"generateWithVariable('test')\"\n",
              "            title=\"Generate code using this dataframe.\"\n",
              "            style=\"display:none;\">\n",
              "\n",
              "  <svg xmlns=\"http://www.w3.org/2000/svg\" height=\"24px\"viewBox=\"0 0 24 24\"\n",
              "       width=\"24px\">\n",
              "    <path d=\"M7,19H8.4L18.45,9,17,7.55,7,17.6ZM5,21V16.75L18.45,3.32a2,2,0,0,1,2.83,0l1.4,1.43a1.91,1.91,0,0,1,.58,1.4,1.91,1.91,0,0,1-.58,1.4L9.25,21ZM18.45,9,17,7.55Zm-12,3A5.31,5.31,0,0,0,4.9,8.1,5.31,5.31,0,0,0,1,6.5,5.31,5.31,0,0,0,4.9,4.9,5.31,5.31,0,0,0,6.5,1,5.31,5.31,0,0,0,8.1,4.9,5.31,5.31,0,0,0,12,6.5,5.46,5.46,0,0,0,6.5,12Z\"/>\n",
              "  </svg>\n",
              "    </button>\n",
              "    <script>\n",
              "      (() => {\n",
              "      const buttonEl =\n",
              "        document.querySelector('#id_9ec70e2b-712e-4d82-9a24-8a008c20292f button.colab-df-generate');\n",
              "      buttonEl.style.display =\n",
              "        google.colab.kernel.accessAllowed ? 'block' : 'none';\n",
              "\n",
              "      buttonEl.onclick = () => {\n",
              "        google.colab.notebook.generateWithVariable('test');\n",
              "      }\n",
              "      })();\n",
              "    </script>\n",
              "  </div>\n",
              "\n",
              "    </div>\n",
              "  </div>\n"
            ],
            "application/vnd.google.colaboratory.intrinsic+json": {
              "type": "dataframe",
              "variable_name": "test",
              "summary": "{\n  \"name\": \"test\",\n  \"rows\": 29545,\n  \"fields\": [\n    {\n      \"column\": \"text\",\n      \"properties\": {\n        \"dtype\": \"string\",\n        \"num_unique_values\": 29500,\n        \"samples\": [\n          \"\\u0627\\u0644\\u0644\\u0647 \\u064a\\u062e\\u0644\\u064a\\u0643 \\u062d\\u0637 \\u0643\\u0633\\u0631\\u0647 \\u0644\\u0644 \\u0628 \\u0644\\u0627\\u0646\\u0648 \\u0641\\u064a \\u062c\\u0647\\u0644 \\u0643\\u062a\\u064a\\u0631 \\u0628\\u064a\\u063a\\u064a\\u0631 \\u0627\\u0644\\u062c\\u0645\\u0644\\u0647 \\u0643\\u0644\\u064a\\u0627\",\n          \"\\u0631\\u0628\\u0646\\u0627 \\u064a\\u0647\\u0646\\u0649 \\u0633\\u0639\\u064a\\u062f \\u0628\\u0633\\u0639\\u064a\\u062f\\u0647 \\u0647\\u0647 \\u0628\\u0633 \\u0623\\u0646\\u0627 \\u0643\\u0644 \\u0625\\u0644\\u0644\\u0649 \\u0635\\u0639\\u0628\\u0627\\u0646 \\u0639\\u0644\\u064a\\u0627 \\u0627\\u0644\\u0631\\u0627\\u062c\\u0644 \\u0631\\u0645\\u0636\\u0627\\u0646 \\u0645\\u0633\\u0643\\u064a\\u0646 \\u0645\\u0634\\u0649 \\u0645\\u0646 \\u063a\\u064a\\u0631 \\u0645\\u0627 \\u062a\\u0642\\u0639\\u062f\\u0649 \\u0645\\u0639\\u0627\\u0647 \\u0634\\u0648\\u064a\\u0627\",\n          \"\\u0627\\u0646\\u0643 \\u0628\\u062a\\u0643\\u062a\\u0628 \\u0644\\u0628\\u062f\\u064a\\u0627\\u0647 \\u0628\\u0633 \\u0645\\u0627\\u0628\\u062a\\u0642\\u062f\\u0631 \\u062a\\u0639\\u0645\\u0644 \\u0627\\u064a \\u0634\\u064a \\u0628\\u062f\\u0643 \\u064a\\u0627\\u0647\"\n        ],\n        \"semantic_type\": \"\",\n        \"description\": \"\"\n      }\n    },\n    {\n      \"column\": \"label\",\n      \"properties\": {\n        \"dtype\": \"category\",\n        \"num_unique_values\": 5,\n        \"samples\": [\n          \"LB\",\n          \"SD\",\n          \"MA\"\n        ],\n        \"semantic_type\": \"\",\n        \"description\": \"\"\n      }\n    }\n  ]\n}"
            }
          },
          "metadata": {},
          "execution_count": 5
        }
      ]
    },
    {
      "cell_type": "markdown",
      "source": [
        "# Tokenization"
      ],
      "metadata": {
        "id": "8Zy22yeNwJsl"
      }
    },
    {
      "cell_type": "code",
      "source": [
        "# Convert all entries in the 'text' column to strings\n",
        "train['text'] = train['text'].astype(str)\n",
        "\n",
        "# Initialize and fit the tokenizer\n",
        "tokenizer = Tokenizer()\n",
        "tokenizer.fit_on_texts(train['text'])\n",
        "\n",
        "# Convert text data to sequences of indices\n",
        "train_sequences = tokenizer.texts_to_sequences(train['text'])\n",
        "test_sequences = tokenizer.texts_to_sequences(test['text'])\n",
        "\n",
        "# Adjust indices to start from 1\n",
        "for sequences in [train_sequences, test_sequences]:\n",
        "    for sequence in sequences:\n",
        "        for i in range(len(sequence)):\n",
        "            sequence[i] += 1"
      ],
      "metadata": {
        "execution": {
          "iopub.status.busy": "2024-05-30T10:19:03.101052Z",
          "iopub.execute_input": "2024-05-30T10:19:03.101835Z",
          "iopub.status.idle": "2024-05-30T10:19:10.738281Z",
          "shell.execute_reply.started": "2024-05-30T10:19:03.101805Z",
          "shell.execute_reply": "2024-05-30T10:19:10.737287Z"
        },
        "trusted": true,
        "id": "cuA6v_KbvqXx"
      },
      "execution_count": 7,
      "outputs": []
    },
    {
      "cell_type": "markdown",
      "source": [
        "# saving tokenizer"
      ],
      "metadata": {
        "id": "0ETY0_AqyHCh"
      }
    },
    {
      "cell_type": "code",
      "source": [
        "tokenizer_json = tokenizer.to_json()\n",
        "with open('tokenizer.json', 'w', encoding='utf-8') as f:\n",
        "    f.write(tokenizer_json)"
      ],
      "metadata": {
        "id": "q_wv_tCLx4s2"
      },
      "execution_count": 13,
      "outputs": []
    },
    {
      "cell_type": "code",
      "source": [
        "# Load the tokenizer from the JSON file\n",
        "with open('tokenizer.json', 'r', encoding='utf-8') as f:\n",
        "    tokenizer_json = f.read()\n",
        "\n",
        "# Convert JSON string back to tokenizer configuration\n",
        "tokenizer = tokenizer_from_json(tokenizer_json)"
      ],
      "metadata": {
        "id": "ID9GUrtowuoO"
      },
      "execution_count": 14,
      "outputs": []
    },
    {
      "cell_type": "markdown",
      "source": [
        "# finding the max length for padding"
      ],
      "metadata": {
        "id": "Uku0E9cdyJj5"
      }
    },
    {
      "cell_type": "code",
      "source": [
        "max_sequence_len = 0\n",
        "for sentence in train_sequences:\n",
        "    max_sequence_len = max(len(sentence), max_sequence_len)\n",
        "print(max_sequence_len)"
      ],
      "metadata": {
        "execution": {
          "iopub.status.busy": "2024-05-30T10:19:23.814239Z",
          "iopub.execute_input": "2024-05-30T10:19:23.814968Z",
          "iopub.status.idle": "2024-05-30T10:19:23.876503Z",
          "shell.execute_reply.started": "2024-05-30T10:19:23.814932Z",
          "shell.execute_reply": "2024-05-30T10:19:23.875620Z"
        },
        "trusted": true,
        "colab": {
          "base_uri": "https://localhost:8080/"
        },
        "id": "ZxY_fUkpvqXy",
        "outputId": "45e40de6-283c-4cc7-e272-022d991527dc"
      },
      "execution_count": 15,
      "outputs": [
        {
          "output_type": "stream",
          "name": "stdout",
          "text": [
            "67\n"
          ]
        }
      ]
    },
    {
      "cell_type": "code",
      "source": [
        "max_sequence_len = 0\n",
        "for sentence in test_sequences:\n",
        "    max_sequence_len = max(len(sentence), max_sequence_len)\n",
        "print(max_sequence_len)"
      ],
      "metadata": {
        "execution": {
          "iopub.status.busy": "2024-05-30T10:19:24.782697Z",
          "iopub.execute_input": "2024-05-30T10:19:24.783624Z",
          "iopub.status.idle": "2024-05-30T10:19:24.801805Z",
          "shell.execute_reply.started": "2024-05-30T10:19:24.783589Z",
          "shell.execute_reply": "2024-05-30T10:19:24.800848Z"
        },
        "trusted": true,
        "colab": {
          "base_uri": "https://localhost:8080/"
        },
        "id": "sfW6TfofvqXz",
        "outputId": "b3a52d65-751d-4105-8f9c-6e7443c4e959"
      },
      "execution_count": 16,
      "outputs": [
        {
          "output_type": "stream",
          "name": "stdout",
          "text": [
            "61\n"
          ]
        }
      ]
    },
    {
      "cell_type": "code",
      "source": [
        "max_sequence_length = 67\n",
        "train_padded = pad_sequences(train_sequences, maxlen=max_sequence_length, padding='post')\n",
        "test_padded = pad_sequences(test_sequences, maxlen=max_sequence_length, padding='post')"
      ],
      "metadata": {
        "execution": {
          "iopub.status.busy": "2024-05-30T10:19:25.648034Z",
          "iopub.execute_input": "2024-05-30T10:19:25.648381Z",
          "iopub.status.idle": "2024-05-30T10:19:26.317009Z",
          "shell.execute_reply.started": "2024-05-30T10:19:25.648354Z",
          "shell.execute_reply": "2024-05-30T10:19:26.316247Z"
        },
        "trusted": true,
        "id": "feOU47A5vqXz"
      },
      "execution_count": 17,
      "outputs": []
    },
    {
      "cell_type": "markdown",
      "source": [
        "# Label Encoding"
      ],
      "metadata": {
        "id": "ZJN63H2kyU5Q"
      }
    },
    {
      "cell_type": "code",
      "source": [
        "encoder = LabelEncoder()\n",
        "y_encoded_train = encoder.fit_transform(train['label'])\n",
        "y_encoded_train = to_categorical(y_encoded_train)\n",
        "y_encoded_test = encoder.fit_transform(test['label'])\n",
        "y_encoded_test = to_categorical(y_encoded_test)"
      ],
      "metadata": {
        "execution": {
          "iopub.status.busy": "2024-05-30T10:19:27.061318Z",
          "iopub.execute_input": "2024-05-30T10:19:27.061664Z",
          "iopub.status.idle": "2024-05-30T10:19:27.108524Z",
          "shell.execute_reply.started": "2024-05-30T10:19:27.061636Z",
          "shell.execute_reply": "2024-05-30T10:19:27.107807Z"
        },
        "trusted": true,
        "id": "wsK7WKNsvqX0"
      },
      "execution_count": 19,
      "outputs": []
    },
    {
      "cell_type": "code",
      "source": [
        "y_encoded_train"
      ],
      "metadata": {
        "execution": {
          "iopub.status.busy": "2024-05-30T10:19:28.258418Z",
          "iopub.execute_input": "2024-05-30T10:19:28.258747Z",
          "iopub.status.idle": "2024-05-30T10:19:28.265848Z",
          "shell.execute_reply.started": "2024-05-30T10:19:28.258723Z",
          "shell.execute_reply": "2024-05-30T10:19:28.264323Z"
        },
        "trusted": true,
        "id": "iGYq_5XhvqX0",
        "outputId": "30ce263b-bc0e-47c5-b1a8-8ff975021432"
      },
      "execution_count": null,
      "outputs": [
        {
          "execution_count": 10,
          "output_type": "execute_result",
          "data": {
            "text/plain": "array([[0., 1., 0., 0., 0.],\n       [0., 0., 1., 0., 0.],\n       [1., 0., 0., 0., 0.],\n       ...,\n       [1., 0., 0., 0., 0.],\n       [1., 0., 0., 0., 0.],\n       [1., 0., 0., 0., 0.]])"
          },
          "metadata": {}
        }
      ]
    },
    {
      "cell_type": "markdown",
      "source": [
        "# finding model input"
      ],
      "metadata": {
        "id": "_FfGsmE3yZjn"
      }
    },
    {
      "cell_type": "code",
      "source": [
        "num_words = len(tokenizer.word_index)\n",
        "num_words"
      ],
      "metadata": {
        "execution": {
          "iopub.status.busy": "2024-05-30T10:19:29.203427Z",
          "iopub.execute_input": "2024-05-30T10:19:29.204209Z",
          "iopub.status.idle": "2024-05-30T10:19:29.209762Z",
          "shell.execute_reply.started": "2024-05-30T10:19:29.204179Z",
          "shell.execute_reply": "2024-05-30T10:19:29.208837Z"
        },
        "trusted": true,
        "colab": {
          "base_uri": "https://localhost:8080/"
        },
        "id": "iMj5funovqX1",
        "outputId": "b0ffc978-7c43-4a3a-eeb8-f90618116197"
      },
      "execution_count": 20,
      "outputs": [
        {
          "output_type": "execute_result",
          "data": {
            "text/plain": [
              "202304"
            ]
          },
          "metadata": {},
          "execution_count": 20
        }
      ]
    },
    {
      "cell_type": "markdown",
      "source": [
        "# Building GRU Model"
      ],
      "metadata": {
        "id": "WrjDiuweye9z"
      }
    },
    {
      "cell_type": "code",
      "source": [
        "gru_bi = tf.keras.models.Sequential([\n",
        "    tf.keras.layers.Embedding(num_words, 128, input_length=max_sequence_length),\n",
        "    tf.keras.layers.Bidirectional(tf.keras.layers.GRU(128, return_sequences=True)),\n",
        "    tf.keras.layers.Bidirectional(tf.keras.layers.GRU(64)),\n",
        "    tf.keras.layers.Dense(64, activation='relu'),\n",
        "    tf.keras.layers.Dense(5, activation='softmax')\n",
        "])"
      ],
      "metadata": {
        "execution": {
          "iopub.status.busy": "2024-05-30T10:20:13.127141Z",
          "iopub.execute_input": "2024-05-30T10:20:13.127915Z",
          "iopub.status.idle": "2024-05-30T10:20:13.163385Z",
          "shell.execute_reply.started": "2024-05-30T10:20:13.127887Z",
          "shell.execute_reply": "2024-05-30T10:20:13.162613Z"
        },
        "trusted": true,
        "id": "JH1aKuNTvqX2"
      },
      "execution_count": null,
      "outputs": []
    },
    {
      "cell_type": "code",
      "source": [
        "gru_bi.compile(loss=tf.keras.losses.CategoricalCrossentropy(),\n",
        "              optimizer=tf.keras.optimizers.Adam(),\n",
        "              metrics=['accuracy', 'precision', 'recall', 'f1_score'])"
      ],
      "metadata": {
        "execution": {
          "iopub.status.busy": "2024-05-30T10:20:16.622864Z",
          "iopub.execute_input": "2024-05-30T10:20:16.623476Z",
          "iopub.status.idle": "2024-05-30T10:20:16.647847Z",
          "shell.execute_reply.started": "2024-05-30T10:20:16.623446Z",
          "shell.execute_reply": "2024-05-30T10:20:16.646960Z"
        },
        "trusted": true,
        "id": "WBRO1VbGvqX2"
      },
      "execution_count": null,
      "outputs": []
    },
    {
      "cell_type": "markdown",
      "source": [
        "# Training GRU Model"
      ],
      "metadata": {
        "id": "gwSKJQprzTq1"
      }
    },
    {
      "cell_type": "code",
      "source": [
        "gru_bi.fit(train_padded, y_encoded_train, epochs=10, batch_size=128,\n",
        "                    validation_data=(test_padded, y_encoded_test),\n",
        "                    validation_steps=30)"
      ],
      "metadata": {
        "execution": {
          "iopub.status.busy": "2024-05-30T10:20:22.246695Z",
          "iopub.execute_input": "2024-05-30T10:20:22.247078Z",
          "iopub.status.idle": "2024-05-30T10:25:57.113406Z",
          "shell.execute_reply.started": "2024-05-30T10:20:22.247047Z",
          "shell.execute_reply": "2024-05-30T10:25:57.112357Z"
        },
        "trusted": true,
        "id": "hHStNDZLvqX2",
        "outputId": "9575ae59-3e2b-4aa8-946d-dd216d3c13ee"
      },
      "execution_count": null,
      "outputs": [
        {
          "name": "stdout",
          "text": "Epoch 1/10\n\u001b[1m924/924\u001b[0m \u001b[32m━━━━━━━━━━━━━━━━━━━━\u001b[0m\u001b[37m\u001b[0m \u001b[1m40s\u001b[0m 35ms/step - accuracy: 0.6675 - f1_score: 0.5671 - loss: 0.8760 - precision: 0.7959 - recall: 0.5244 - val_accuracy: 0.8276 - val_f1_score: 0.7959 - val_loss: 0.4955 - val_precision: 0.8699 - val_recall: 0.7906\nEpoch 2/10\n\u001b[1m924/924\u001b[0m \u001b[32m━━━━━━━━━━━━━━━━━━━━\u001b[0m\u001b[37m\u001b[0m \u001b[1m31s\u001b[0m 34ms/step - accuracy: 0.9303 - f1_score: 0.9146 - loss: 0.2192 - precision: 0.9464 - recall: 0.9174 - val_accuracy: 0.8151 - val_f1_score: 0.7725 - val_loss: 0.5581 - val_precision: 0.8432 - val_recall: 0.7995\nEpoch 3/10\n\u001b[1m924/924\u001b[0m \u001b[32m━━━━━━━━━━━━━━━━━━━━\u001b[0m\u001b[37m\u001b[0m \u001b[1m32s\u001b[0m 34ms/step - accuracy: 0.9738 - f1_score: 0.9691 - loss: 0.0892 - precision: 0.9786 - recall: 0.9701 - val_accuracy: 0.8273 - val_f1_score: 0.7843 - val_loss: 0.6041 - val_precision: 0.8452 - val_recall: 0.8146\nEpoch 4/10\n\u001b[1m924/924\u001b[0m \u001b[32m━━━━━━━━━━━━━━━━━━━━\u001b[0m\u001b[37m\u001b[0m \u001b[1m32s\u001b[0m 34ms/step - accuracy: 0.9855 - f1_score: 0.9835 - loss: 0.0486 - precision: 0.9879 - recall: 0.9836 - val_accuracy: 0.8109 - val_f1_score: 0.7726 - val_loss: 0.7193 - val_precision: 0.8246 - val_recall: 0.8034\nEpoch 5/10\n\u001b[1m924/924\u001b[0m \u001b[32m━━━━━━━━━━━━━━━━━━━━\u001b[0m\u001b[37m\u001b[0m \u001b[1m32s\u001b[0m 34ms/step - accuracy: 0.9905 - f1_score: 0.9888 - loss: 0.0308 - precision: 0.9918 - recall: 0.9892 - val_accuracy: 0.8099 - val_f1_score: 0.7745 - val_loss: 0.7880 - val_precision: 0.8221 - val_recall: 0.8049\nEpoch 6/10\n\u001b[1m924/924\u001b[0m \u001b[32m━━━━━━━━━━━━━━━━━━━━\u001b[0m\u001b[37m\u001b[0m \u001b[1m32s\u001b[0m 34ms/step - accuracy: 0.9924 - f1_score: 0.9911 - loss: 0.0244 - precision: 0.9935 - recall: 0.9915 - val_accuracy: 0.8227 - val_f1_score: 0.7811 - val_loss: 0.8258 - val_precision: 0.8323 - val_recall: 0.8169\nEpoch 7/10\n\u001b[1m924/924\u001b[0m \u001b[32m━━━━━━━━━━━━━━━━━━━━\u001b[0m\u001b[37m\u001b[0m \u001b[1m32s\u001b[0m 34ms/step - accuracy: 0.9945 - f1_score: 0.9939 - loss: 0.0179 - precision: 0.9954 - recall: 0.9937 - val_accuracy: 0.8073 - val_f1_score: 0.7744 - val_loss: 0.9777 - val_precision: 0.8148 - val_recall: 0.8034\nEpoch 8/10\n\u001b[1m924/924\u001b[0m \u001b[32m━━━━━━━━━━━━━━━━━━━━\u001b[0m\u001b[37m\u001b[0m \u001b[1m32s\u001b[0m 34ms/step - accuracy: 0.9956 - f1_score: 0.9952 - loss: 0.0138 - precision: 0.9964 - recall: 0.9949 - val_accuracy: 0.7955 - val_f1_score: 0.7601 - val_loss: 1.0898 - val_precision: 0.8038 - val_recall: 0.7902\nEpoch 9/10\n\u001b[1m  3/924\u001b[0m \u001b[37m━━━━━━━━━━━━━━━━━━━━\u001b[0m \u001b[1m30s\u001b[0m 34ms/step - accuracy: 0.9887 - f1_score: 0.9861 - loss: 0.0322 - precision: 0.9896 - recall: 0.9887",
          "output_type": "stream"
        },
        {
          "name": "stderr",
          "text": "/opt/conda/lib/python3.10/contextlib.py:153: UserWarning: Your input ran out of data; interrupting training. Make sure that your dataset or generator can generate at least `steps_per_epoch * epochs` batches. You may need to use the `.repeat()` function when building your dataset.\n  self.gen.throw(typ, value, traceback)\n",
          "output_type": "stream"
        },
        {
          "name": "stdout",
          "text": "\u001b[1m924/924\u001b[0m \u001b[32m━━━━━━━━━━━━━━━━━━━━\u001b[0m\u001b[37m\u001b[0m \u001b[1m32s\u001b[0m 34ms/step - accuracy: 0.9961 - f1_score: 0.9955 - loss: 0.0118 - precision: 0.9969 - recall: 0.9957 - val_accuracy: 0.7943 - val_f1_score: 0.7585 - val_loss: 1.1829 - val_precision: 0.7998 - val_recall: 0.7906\nEpoch 10/10\n\u001b[1m924/924\u001b[0m \u001b[32m━━━━━━━━━━━━━━━━━━━━\u001b[0m\u001b[37m\u001b[0m \u001b[1m32s\u001b[0m 34ms/step - accuracy: 0.9963 - f1_score: 0.9957 - loss: 0.0105 - precision: 0.9972 - recall: 0.9956 - val_accuracy: 0.7977 - val_f1_score: 0.7567 - val_loss: 1.3230 - val_precision: 0.8040 - val_recall: 0.7945\n",
          "output_type": "stream"
        },
        {
          "execution_count": 17,
          "output_type": "execute_result",
          "data": {
            "text/plain": "<keras.src.callbacks.history.History at 0x7d9f14387ee0>"
          },
          "metadata": {}
        }
      ]
    },
    {
      "cell_type": "markdown",
      "source": [
        "# Evaluating GRU Model"
      ],
      "metadata": {
        "id": "IWzQJsYzzXu3"
      }
    },
    {
      "cell_type": "code",
      "source": [
        "evaluation = gru_bi.evaluate(test_padded, y_encoded_test)\n",
        "\n",
        "print(\"Test Loss:\", evaluation[0])\n",
        "print(\"Test Accuracy:\", evaluation[1])\n",
        "print(\"Test Precision:\", evaluation[2])\n",
        "print(\"Test Recall:\", evaluation[3])\n",
        "print(\"Test F1 Score:\", evaluation[4])"
      ],
      "metadata": {
        "execution": {
          "iopub.status.busy": "2024-05-30T10:26:24.026404Z",
          "iopub.execute_input": "2024-05-30T10:26:24.026782Z",
          "iopub.status.idle": "2024-05-30T10:26:30.340845Z",
          "shell.execute_reply.started": "2024-05-30T10:26:24.026753Z",
          "shell.execute_reply": "2024-05-30T10:26:30.339939Z"
        },
        "trusted": true,
        "id": "c9EP8jZFvqX3",
        "outputId": "5c6e61cf-2701-40c3-fcd8-1ca03fedabad"
      },
      "execution_count": null,
      "outputs": [
        {
          "name": "stdout",
          "text": "\u001b[1m924/924\u001b[0m \u001b[32m━━━━━━━━━━━━━━━━━━━━\u001b[0m\u001b[37m\u001b[0m \u001b[1m6s\u001b[0m 7ms/step - accuracy: 0.7974 - f1_score: 0.7600 - loss: 1.2394 - precision: 0.8042 - recall: 0.7943\nTest Loss: 1.2023732662200928\nTest Accuracy: 0.8017261624336243\nTest Precision: 0.80796217918396\nTest Recall: 0.7988830804824829\nTest F1 Score: tf.Tensor([0.857251   0.81870186 0.7840827  0.7087182  0.64971346], shape=(5,), dtype=float32)\n",
          "output_type": "stream"
        }
      ]
    },
    {
      "cell_type": "markdown",
      "source": [
        "# Saving GRU Model"
      ],
      "metadata": {
        "id": "QcSrpsAWzbLc"
      }
    },
    {
      "cell_type": "code",
      "source": [
        "gru_bi.save(\"GRU_bi_tokenizer.h5\")"
      ],
      "metadata": {
        "id": "Bq0_GDW3vqX3"
      },
      "execution_count": null,
      "outputs": []
    },
    {
      "cell_type": "code",
      "source": [
        "loaded_model = load_model(\"GRU_bi_tokenizer.h5\")"
      ],
      "metadata": {
        "id": "_-WVTpyPvqX3"
      },
      "execution_count": null,
      "outputs": []
    },
    {
      "cell_type": "markdown",
      "source": [
        "# Testing GRU Model"
      ],
      "metadata": {
        "id": "_Hl1V8U0zgsy"
      }
    },
    {
      "cell_type": "code",
      "source": [
        "from tensorflow.keras.preprocessing.text import Tokenizer\n",
        "from tensorflow.keras.preprocessing.sequence import pad_sequences\n",
        "from sklearn.preprocessing import LabelEncoder\n",
        "import tnkeeh as tn\n",
        "import re\n",
        "from keras.models import load_model\n",
        "\n",
        "tokenizer = Tokenizer()\n",
        "train['text'] = train['text'].astype(str)\n",
        "tokenizer.fit_on_texts(train['text'])\n",
        "\n",
        "encoder = LabelEncoder()\n",
        "y_encoded_train = encoder.fit_transform(train['label'])\n",
        "\n",
        "loaded_model = load_model(\"/content/drive/MyDrive/nlp_project/dl_models/model_lstm_tokenizer.h5\")\n",
        "\n",
        "def predict_label(text, model, tokenizer, max_sequence_length):\n",
        "\n",
        "    # data preprocessing\n",
        "    cleander = tn.Tnkeeh(remove_diacritics=True,\n",
        "                     remove_html_elements=True,\n",
        "                     remove_twitter_meta=True,\n",
        "                     remove_links=True,\n",
        "                     remove_english=True,\n",
        "                     remove_repeated_chars=True,\n",
        "                     remove_long_words=True,\n",
        "                     normalize=True\n",
        "                     )\n",
        "\n",
        "    text = cleander.clean_raw_text(text)\n",
        "    text = text[0]\n",
        "\n",
        "    text = text.replace(r'[0-9٠-٩]', '')\n",
        "    text = text.replace(\"؟\", \"\")\n",
        "    text = text.replace(\"@\", \"\")\n",
        "    text = text.replace(\"_\", \"\")\n",
        "    text = text.replace(\"-\", \"\")\n",
        "\n",
        "    emoji_pattern = re.compile(\"[\"\n",
        "                               u\"\\U0001F600-\\U0001F64F\"  # emoticons\n",
        "                               u\"\\U0001F300-\\U0001F5FF\"  # symbols & pictographs\n",
        "                               u\"\\U0001F680-\\U0001F6FF\"  # transport & map symbols\n",
        "                               u\"\\U0001F700-\\U0001F77F\"  # alchemical symbols\n",
        "                               u\"\\U0001F780-\\U0001F7FF\"  # Geometric Shapes Extended\n",
        "                               u\"\\U0001F800-\\U0001F8FF\"  # Supplemental Arrows-C\n",
        "                               u\"\\U0001F900-\\U0001F9FF\"  # Supplemental Symbols and Pictographs\n",
        "                               u\"\\U0001FA00-\\U0001FA6F\"  # Chess Symbols\n",
        "                               u\"\\U0001FA70-\\U0001FAFF\"  # Symbols and Pictographs Extended-A\n",
        "                               u\"\\U00002702-\\U000027B0\"  # Dingbats\n",
        "                               u\"\\U000024C2-\\U0001F251\"\n",
        "                               \"]+\", flags=re.UNICODE)\n",
        "    text = emoji_pattern.sub(r'', text)\n",
        "\n",
        "    arabic_punctuation_pattern = r'[^\\w\\s\\u0621-\\u063A\\u0641-\\u064A]'\n",
        "    text = re.sub(arabic_punctuation_pattern,'',text)\n",
        "\n",
        "    text = re.sub(r'\\s+', ' ', text).strip()\n",
        "\n",
        "    # Convert the input text to a sequence of indices\n",
        "    sequence = tokenizer.texts_to_sequences([text])\n",
        "\n",
        "    # Adjust indices to start from 1\n",
        "    for i in range(len(sequence[0])):\n",
        "        sequence[0][i] += 1\n",
        "\n",
        "    # Pad the sequence to the maximum length\n",
        "    padded_sequence = pad_sequences(sequence, maxlen=67, padding='post')\n",
        "\n",
        "    # Predict the label\n",
        "    prediction = model.predict(padded_sequence)\n",
        "\n",
        "    # Get the label with the highest probability\n",
        "    predicted_label_index = np.argmax(prediction, axis=1)\n",
        "\n",
        "    # Decode the label back to its original form\n",
        "    predicted_label = encoder.inverse_transform(predicted_label_index)\n",
        "\n",
        "    return predicted_label[0]\n",
        "\n",
        "# Example usage\n",
        "text_to_predict = \"\"\n",
        "predicted_label = predict_label(text_to_predict,loaded_model, tokenizer, encoder)\n",
        "print(\"Predicted Label:\", predicted_label)"
      ],
      "metadata": {
        "execution": {
          "iopub.status.busy": "2024-05-30T03:34:05.995363Z",
          "iopub.execute_input": "2024-05-30T03:34:05.996540Z",
          "iopub.status.idle": "2024-05-30T03:34:06.406278Z",
          "shell.execute_reply.started": "2024-05-30T03:34:05.996501Z",
          "shell.execute_reply": "2024-05-30T03:34:06.405105Z"
        },
        "trusted": true,
        "id": "tOiP_0FcvqX4",
        "outputId": "446c61a3-1720-45c8-a9b4-eb5cdc073da2"
      },
      "execution_count": null,
      "outputs": [
        {
          "name": "stdout",
          "text": "\u001b[1m1/1\u001b[0m \u001b[32m━━━━━━━━━━━━━━━━━━━━\u001b[0m\u001b[37m\u001b[0m \u001b[1m0s\u001b[0m 350ms/step\nPredicted Label: SD\n",
          "output_type": "stream"
        }
      ]
    },
    {
      "cell_type": "markdown",
      "source": [
        "# Building LSTM Model"
      ],
      "metadata": {
        "id": "kdJ12UotzkgN"
      }
    },
    {
      "cell_type": "code",
      "source": [
        "lstm_bi = tf.keras.models.Sequential([\n",
        "    tf.keras.layers.Embedding(num_words, 64, input_length=max_sequence_length),\n",
        "    tf.keras.layers.Bidirectional(tf.keras.layers.LSTM(128, return_sequences=True)),\n",
        "    tf.keras.layers.Bidirectional(tf.keras.layers.LSTM(64)),\n",
        "    tf.keras.layers.Dense(64, activation='relu'),\n",
        "    tf.keras.layers.Dense(5, activation='softmax')\n",
        "])"
      ],
      "metadata": {
        "execution": {
          "iopub.status.busy": "2024-05-30T11:26:08.708050Z",
          "iopub.execute_input": "2024-05-30T11:26:08.708449Z",
          "iopub.status.idle": "2024-05-30T11:26:08.746731Z",
          "shell.execute_reply.started": "2024-05-30T11:26:08.708414Z",
          "shell.execute_reply": "2024-05-30T11:26:08.745704Z"
        },
        "trusted": true,
        "id": "_HEOjIiKvqX5"
      },
      "execution_count": null,
      "outputs": []
    },
    {
      "cell_type": "code",
      "source": [
        "lstm_bi.compile(loss=tf.keras.losses.CategoricalCrossentropy(),\n",
        "              optimizer=tf.keras.optimizers.Adam(),\n",
        "              metrics=['accuracy', 'precision', 'recall', 'f1_score'])"
      ],
      "metadata": {
        "execution": {
          "iopub.status.busy": "2024-05-30T11:26:11.906209Z",
          "iopub.execute_input": "2024-05-30T11:26:11.906848Z",
          "iopub.status.idle": "2024-05-30T11:26:11.916846Z",
          "shell.execute_reply.started": "2024-05-30T11:26:11.906816Z",
          "shell.execute_reply": "2024-05-30T11:26:11.916071Z"
        },
        "trusted": true,
        "id": "kkFDkxsDvqX5"
      },
      "execution_count": null,
      "outputs": []
    },
    {
      "cell_type": "markdown",
      "source": [
        "# Training LSTM Model"
      ],
      "metadata": {
        "id": "6kKm1wCDznNW"
      }
    },
    {
      "cell_type": "code",
      "source": [
        "history = lstm_bi.fit(train_padded, y_encoded_train, epochs=10, batch_size=64,\n",
        "                    validation_data=(test_padded, y_encoded_test),\n",
        "                    validation_steps=30)"
      ],
      "metadata": {
        "execution": {
          "iopub.status.busy": "2024-05-30T11:26:14.046228Z",
          "iopub.execute_input": "2024-05-30T11:26:14.046590Z",
          "iopub.status.idle": "2024-05-30T11:34:25.239605Z",
          "shell.execute_reply.started": "2024-05-30T11:26:14.046561Z",
          "shell.execute_reply": "2024-05-30T11:34:25.238624Z"
        },
        "trusted": true,
        "id": "WH_cni9VvqX5",
        "outputId": "e7e626b0-99f1-4ca7-fb09-e8d1ea331068"
      },
      "execution_count": null,
      "outputs": [
        {
          "name": "stdout",
          "text": "Epoch 1/10\n\u001b[1m1847/1847\u001b[0m \u001b[32m━━━━━━━━━━━━━━━━━━━━\u001b[0m\u001b[37m\u001b[0m \u001b[1m49s\u001b[0m 24ms/step - accuracy: 0.6786 - f1_score: 0.5819 - loss: 0.8416 - precision: 0.8089 - recall: 0.5462 - val_accuracy: 0.8125 - val_f1_score: 0.7869 - val_loss: 0.5428 - val_precision: 0.8617 - val_recall: 0.7594\nEpoch 2/10\n\u001b[1m1847/1847\u001b[0m \u001b[32m━━━━━━━━━━━━━━━━━━━━\u001b[0m\u001b[37m\u001b[0m \u001b[1m43s\u001b[0m 23ms/step - accuracy: 0.9261 - f1_score: 0.9078 - loss: 0.2301 - precision: 0.9448 - recall: 0.9110 - val_accuracy: 0.8484 - val_f1_score: 0.8212 - val_loss: 0.4738 - val_precision: 0.8712 - val_recall: 0.8172\nEpoch 3/10\n\u001b[1m1847/1847\u001b[0m \u001b[32m━━━━━━━━━━━━━━━━━━━━\u001b[0m\u001b[37m\u001b[0m \u001b[1m43s\u001b[0m 23ms/step - accuracy: 0.9692 - f1_score: 0.9635 - loss: 0.1007 - precision: 0.9750 - recall: 0.9638 - val_accuracy: 0.8073 - val_f1_score: 0.7698 - val_loss: 0.6513 - val_precision: 0.8321 - val_recall: 0.7875\nEpoch 4/10\n\u001b[1m1847/1847\u001b[0m \u001b[32m━━━━━━━━━━━━━━━━━━━━\u001b[0m\u001b[37m\u001b[0m \u001b[1m43s\u001b[0m 23ms/step - accuracy: 0.9823 - f1_score: 0.9792 - loss: 0.0576 - precision: 0.9864 - recall: 0.9793 - val_accuracy: 0.7990 - val_f1_score: 0.7596 - val_loss: 0.8818 - val_precision: 0.8075 - val_recall: 0.7932\nEpoch 5/10\n\u001b[1m1847/1847\u001b[0m \u001b[32m━━━━━━━━━━━━━━━━━━━━\u001b[0m\u001b[37m\u001b[0m \u001b[1m43s\u001b[0m 23ms/step - accuracy: 0.9878 - f1_score: 0.9860 - loss: 0.0385 - precision: 0.9903 - recall: 0.9859 - val_accuracy: 0.8094 - val_f1_score: 0.7643 - val_loss: 0.8099 - val_precision: 0.8245 - val_recall: 0.8026\nEpoch 6/10\n\u001b[1m1847/1847\u001b[0m \u001b[32m━━━━━━━━━━━━━━━━━━━━\u001b[0m\u001b[37m\u001b[0m \u001b[1m43s\u001b[0m 23ms/step - accuracy: 0.9917 - f1_score: 0.9906 - loss: 0.0261 - precision: 0.9937 - recall: 0.9904 - val_accuracy: 0.8151 - val_f1_score: 0.7697 - val_loss: 0.9491 - val_precision: 0.8233 - val_recall: 0.8057\nEpoch 7/10\n\u001b[1m1847/1847\u001b[0m \u001b[32m━━━━━━━━━━━━━━━━━━━━\u001b[0m\u001b[37m\u001b[0m \u001b[1m43s\u001b[0m 23ms/step - accuracy: 0.9937 - f1_score: 0.9929 - loss: 0.0198 - precision: 0.9956 - recall: 0.9920 - val_accuracy: 0.8052 - val_f1_score: 0.7742 - val_loss: 1.1032 - val_precision: 0.8106 - val_recall: 0.8000\nEpoch 8/10\n\u001b[1m1847/1847\u001b[0m \u001b[32m━━━━━━━━━━━━━━━━━━━━\u001b[0m\u001b[37m\u001b[0m \u001b[1m43s\u001b[0m 23ms/step - accuracy: 0.9942 - f1_score: 0.9932 - loss: 0.0170 - precision: 0.9963 - recall: 0.9929 - val_accuracy: 0.8089 - val_f1_score: 0.7571 - val_loss: 1.0895 - val_precision: 0.8145 - val_recall: 0.8052\nEpoch 9/10\n\u001b[1m1847/1847\u001b[0m \u001b[32m━━━━━━━━━━━━━━━━━━━━\u001b[0m\u001b[37m\u001b[0m \u001b[1m43s\u001b[0m 23ms/step - accuracy: 0.9958 - f1_score: 0.9950 - loss: 0.0128 - precision: 0.9970 - recall: 0.9948 - val_accuracy: 0.8026 - val_f1_score: 0.7598 - val_loss: 1.1284 - val_precision: 0.8107 - val_recall: 0.7984\nEpoch 10/10\n\u001b[1m1847/1847\u001b[0m \u001b[32m━━━━━━━━━━━━━━━━━━━━\u001b[0m\u001b[37m\u001b[0m \u001b[1m43s\u001b[0m 23ms/step - accuracy: 0.9964 - f1_score: 0.9959 - loss: 0.0105 - precision: 0.9978 - recall: 0.9952 - val_accuracy: 0.7964 - val_f1_score: 0.7719 - val_loss: 1.2081 - val_precision: 0.8052 - val_recall: 0.7922\n",
          "output_type": "stream"
        }
      ]
    },
    {
      "cell_type": "markdown",
      "source": [],
      "metadata": {
        "id": "QxdLGVjJzrAi"
      }
    },
    {
      "cell_type": "markdown",
      "source": [
        "# Evaluating LSTM Model"
      ],
      "metadata": {
        "id": "Mw_wqFz4zrF4"
      }
    },
    {
      "cell_type": "code",
      "source": [
        "evaluation = lstm_bi.evaluate(test_padded, y_encoded_test)\n",
        "\n",
        "print(\"Test Loss:\", evaluation[0])\n",
        "print(\"Test Accuracy:\", evaluation[1])\n",
        "print(\"Test Precision:\", evaluation[2])\n",
        "print(\"Test Recall:\", evaluation[3])\n",
        "print(\"Test F1 Score:\", evaluation[4])"
      ],
      "metadata": {
        "execution": {
          "iopub.status.busy": "2024-05-30T11:34:45.821585Z",
          "iopub.execute_input": "2024-05-30T11:34:45.822257Z",
          "iopub.status.idle": "2024-05-30T11:34:52.269549Z",
          "shell.execute_reply.started": "2024-05-30T11:34:45.822225Z",
          "shell.execute_reply": "2024-05-30T11:34:52.268542Z"
        },
        "trusted": true,
        "id": "skbbBtkfvqX5",
        "outputId": "03f36389-20cd-4935-cafd-2fc67d65d3c5"
      },
      "execution_count": null,
      "outputs": [
        {
          "name": "stdout",
          "text": "\u001b[1m924/924\u001b[0m \u001b[32m━━━━━━━━━━━━━━━━━━━━\u001b[0m\u001b[37m\u001b[0m \u001b[1m6s\u001b[0m 7ms/step - accuracy: 0.7940 - f1_score: 0.7566 - loss: 1.2619 - precision: 0.7996 - recall: 0.7915\nTest Loss: 1.2180308103561401\nTest Accuracy: 0.8011846542358398\nTest Precision: 0.8060216903686523\nTest Recall: 0.7982738018035889\nTest F1 Score: tf.Tensor([0.85552084 0.827953   0.78626895 0.702851   0.6433416 ], shape=(5,), dtype=float32)\n",
          "output_type": "stream"
        }
      ]
    },
    {
      "cell_type": "markdown",
      "source": [
        "# Testing LSTM Model"
      ],
      "metadata": {
        "id": "7fL9iUXTzt92"
      }
    },
    {
      "cell_type": "code",
      "source": [
        "from tensorflow.keras.preprocessing.text import Tokenizer\n",
        "from tensorflow.keras.preprocessing.sequence import pad_sequences\n",
        "from sklearn.preprocessing import LabelEncoder\n",
        "import tnkeeh as tn\n",
        "import re\n",
        "from keras.models import load_model\n",
        "\n",
        "tokenizer = Tokenizer()\n",
        "train['text'] = train['text'].astype(str)\n",
        "tokenizer.fit_on_texts(train['text'])\n",
        "\n",
        "encoder = LabelEncoder()\n",
        "y_encoded_train = encoder.fit_transform(train['label'])\n",
        "\n",
        "loaded_model = load_model(\"/content/drive/MyDrive/nlp_project/dl_models/model_lstm_tokenizer.h5\")\n",
        "\n",
        "def predict_label(text, model, tokenizer, max_sequence_length):\n",
        "\n",
        "    # data preprocessing\n",
        "    cleander = tn.Tnkeeh(remove_diacritics=True,\n",
        "                     remove_html_elements=True,\n",
        "                     remove_twitter_meta=True,\n",
        "                     remove_links=True,\n",
        "                     remove_english=True,\n",
        "                     remove_repeated_chars=True,\n",
        "                     remove_long_words=True,\n",
        "                     normalize=True\n",
        "                     )\n",
        "\n",
        "    text = cleander.clean_raw_text(text)\n",
        "    text = text[0]\n",
        "\n",
        "    text = text.replace(r'[0-9٠-٩]', '')\n",
        "    text = text.replace(\"؟\", \"\")\n",
        "    text = text.replace(\"@\", \"\")\n",
        "    text = text.replace(\"_\", \"\")\n",
        "    text = text.replace(\"-\", \"\")\n",
        "\n",
        "    emoji_pattern = re.compile(\"[\"\n",
        "                               u\"\\U0001F600-\\U0001F64F\"  # emoticons\n",
        "                               u\"\\U0001F300-\\U0001F5FF\"  # symbols & pictographs\n",
        "                               u\"\\U0001F680-\\U0001F6FF\"  # transport & map symbols\n",
        "                               u\"\\U0001F700-\\U0001F77F\"  # alchemical symbols\n",
        "                               u\"\\U0001F780-\\U0001F7FF\"  # Geometric Shapes Extended\n",
        "                               u\"\\U0001F800-\\U0001F8FF\"  # Supplemental Arrows-C\n",
        "                               u\"\\U0001F900-\\U0001F9FF\"  # Supplemental Symbols and Pictographs\n",
        "                               u\"\\U0001FA00-\\U0001FA6F\"  # Chess Symbols\n",
        "                               u\"\\U0001FA70-\\U0001FAFF\"  # Symbols and Pictographs Extended-A\n",
        "                               u\"\\U00002702-\\U000027B0\"  # Dingbats\n",
        "                               u\"\\U000024C2-\\U0001F251\"\n",
        "                               \"]+\", flags=re.UNICODE)\n",
        "    text = emoji_pattern.sub(r'', text)\n",
        "\n",
        "    arabic_punctuation_pattern = r'[^\\w\\s\\u0621-\\u063A\\u0641-\\u064A]'\n",
        "    text = re.sub(arabic_punctuation_pattern,'',text)\n",
        "\n",
        "    text = re.sub(r'\\s+', ' ', text).strip()\n",
        "\n",
        "    # Convert the input text to a sequence of indices\n",
        "    sequence = tokenizer.texts_to_sequences([text])\n",
        "\n",
        "    # Adjust indices to start from 1\n",
        "    for i in range(len(sequence[0])):\n",
        "        sequence[0][i] += 1\n",
        "\n",
        "    # Pad the sequence to the maximum length\n",
        "    padded_sequence = pad_sequences(sequence, maxlen=67, padding='post')\n",
        "\n",
        "    # Predict the label\n",
        "    prediction = model.predict(padded_sequence)\n",
        "\n",
        "    # Get the label with the highest probability\n",
        "    predicted_label_index = np.argmax(prediction, axis=1)\n",
        "\n",
        "    # Decode the label back to its original form\n",
        "    predicted_label = encoder.inverse_transform(predicted_label_index)\n",
        "\n",
        "    return predicted_label[0]\n",
        "\n",
        "# Example usage\n",
        "text_to_predict = \"يازول\"\n",
        "predicted_label = predict_label(text_to_predict,loaded_model, tokenizer, encoder)\n",
        "print(\"Predicted Label:\", predicted_label)"
      ],
      "metadata": {
        "execution": {
          "iopub.status.busy": "2024-05-30T03:34:05.995363Z",
          "iopub.execute_input": "2024-05-30T03:34:05.996540Z",
          "iopub.status.idle": "2024-05-30T03:34:06.406278Z",
          "shell.execute_reply.started": "2024-05-30T03:34:05.996501Z",
          "shell.execute_reply": "2024-05-30T03:34:06.405105Z"
        },
        "trusted": true,
        "outputId": "446c61a3-1720-45c8-a9b4-eb5cdc073da2",
        "id": "z6mlTMfuzLtD"
      },
      "execution_count": null,
      "outputs": [
        {
          "name": "stdout",
          "text": "\u001b[1m1/1\u001b[0m \u001b[32m━━━━━━━━━━━━━━━━━━━━\u001b[0m\u001b[37m\u001b[0m \u001b[1m0s\u001b[0m 350ms/step\nPredicted Label: SD\n",
          "output_type": "stream"
        }
      ]
    }
  ]
}